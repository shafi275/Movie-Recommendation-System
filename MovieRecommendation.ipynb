{
 "cells": [
  {
   "cell_type": "code",
   "execution_count": null,
   "id": "b2116b2f-2986-41e1-b88f-0601350e3cd0",
   "metadata": {},
   "outputs": [],
   "source": [
    "import pandas as pd"
   ]
  },
  {
   "cell_type": "code",
   "execution_count": null,
   "id": "2cb882c1-ed65-4a47-be01-e90731a452a5",
   "metadata": {},
   "outputs": [],
   "source": [
    "import numpy as np"
   ]
  },
  {
   "cell_type": "code",
   "execution_count": null,
   "id": "5ebeab37-d58e-4f52-a7f6-8185ec2fdf90",
   "metadata": {},
   "outputs": [],
   "source": [
    "credits= pd.read_csv(\"E:/DataScienceProject/archive/tmdb_5000_credits.csv\")"
   ]
  },
  {
   "cell_type": "code",
   "execution_count": null,
   "id": "a677b919-6f95-455d-b46a-c32333d9ac7e",
   "metadata": {},
   "outputs": [],
   "source": [
    "movies=pd.read_csv(\"E:/DataScienceProject/tmdb_5000_movies.csv\")\n",
    "\n",
    "\n",
    "movies.head(5)"
   ]
  },
  {
   "cell_type": "code",
   "execution_count": null,
   "id": "4fecd0df-00fd-4521-b5cd-4db757b0f032",
   "metadata": {},
   "outputs": [],
   "source": [
    "movies"
   ]
  },
  {
   "cell_type": "code",
   "execution_count": null,
   "id": "c556add1-7842-42cf-b6be-fbfa627e38eb",
   "metadata": {},
   "outputs": [],
   "source": [
    "credits"
   ]
  },
  {
   "cell_type": "code",
   "execution_count": null,
   "id": "2612fad0-1230-40bb-9043-a9c00f8f78b8",
   "metadata": {},
   "outputs": [],
   "source": [
    "credits.shape"
   ]
  },
  {
   "cell_type": "code",
   "execution_count": null,
   "id": "d88e80ee-a5e2-4774-ad4f-f94b47f62242",
   "metadata": {},
   "outputs": [],
   "source": [
    "movies.shape"
   ]
  },
  {
   "cell_type": "code",
   "execution_count": null,
   "id": "e1e5cfd5-fb13-4293-a397-b8ce6150943c",
   "metadata": {},
   "outputs": [],
   "source": [
    "movies= movies.merge( credits, on ='title')"
   ]
  },
  {
   "cell_type": "code",
   "execution_count": null,
   "id": "b6901ae3-cbe6-41f9-92f5-c528c613d970",
   "metadata": {},
   "outputs": [],
   "source": [
    "movies.shape\n",
    "movies.isnull().sum()"
   ]
  },
  {
   "cell_type": "code",
   "execution_count": null,
   "id": "1229086b-9aaa-4457-82a7-cb0e0cee6dbb",
   "metadata": {},
   "outputs": [],
   "source": [
    "#will recoomendate on 7 criteria \n",
    "#genres\n",
    "#id\n",
    "#keyword\n",
    "#title\n",
    "#overview\n",
    "#cast\n",
    "#crew\n",
    "movies.columns\n"
   ]
  },
  {
   "cell_type": "code",
   "execution_count": null,
   "id": "7c15193b-c884-490a-a716-34f162dff285",
   "metadata": {},
   "outputs": [],
   "source": [
    "movies= movies[['genres','id', 'keywords','title', 'overview','cast', 'crew']]"
   ]
  },
  {
   "cell_type": "code",
   "execution_count": null,
   "id": "6fa5314d-6a77-4cd9-bd1d-0e3a27a45b12",
   "metadata": {},
   "outputs": [],
   "source": [
    "movies"
   ]
  },
  {
   "cell_type": "code",
   "execution_count": null,
   "id": "6ebc449d-6b8b-469f-8620-a365496a9bc0",
   "metadata": {},
   "outputs": [],
   "source": [
    "movies.shape"
   ]
  },
  {
   "cell_type": "code",
   "execution_count": null,
   "id": "7e0a608d-b30b-42a6-8368-39012dc4026d",
   "metadata": {},
   "outputs": [],
   "source": [
    "movies.iloc[0].genres"
   ]
  },
  {
   "cell_type": "code",
   "execution_count": null,
   "id": "8cb92086-55de-478c-b39d-74db74fce736",
   "metadata": {},
   "outputs": [],
   "source": [
    "import ast\n",
    "def gen(obj):\n",
    "    L= []\n",
    "    for i in ast.literal_eval(obj):\n",
    "        L.append(i['name'])\n",
    "    return L    \n"
   ]
  },
  {
   "cell_type": "code",
   "execution_count": null,
   "id": "68ee3bf1-fee7-4912-9594-a6bcf9c6fc6a",
   "metadata": {},
   "outputs": [],
   "source": [
    "movies"
   ]
  },
  {
   "cell_type": "code",
   "execution_count": null,
   "id": "85aeb643",
   "metadata": {},
   "outputs": [],
   "source": [
    "movies"
   ]
  },
  {
   "cell_type": "code",
   "execution_count": null,
   "id": "384cecdf",
   "metadata": {},
   "outputs": [],
   "source": [
    "movies['genres']=movies['genres'].apply(convert)"
   ]
  },
  {
   "cell_type": "code",
   "execution_count": null,
   "id": "94be89b5",
   "metadata": {},
   "outputs": [],
   "source": [
    "def key(obj):\n",
    "    L= []\n",
    "    for i in ast.literal_eval(obj):\n",
    "        L.append(i['name'])\n",
    "    return L\n"
   ]
  },
  {
   "cell_type": "code",
   "execution_count": null,
   "id": "8a101da7",
   "metadata": {},
   "outputs": [],
   "source": [
    "movies['keywords'] = movies['keywords'].apply(key)"
   ]
  },
  {
   "cell_type": "code",
   "execution_count": null,
   "id": "fc92ef73",
   "metadata": {},
   "outputs": [],
   "source": [
    "def cast(obj):\n",
    "    L= []\n",
    "    counter = 0 \n",
    "    for i in ast.literal_eval(obj):\n",
    "        if counter!= 3:\n",
    "            L.append(i['name'])\n",
    "            counter =counter+1\n",
    "       \n",
    "    return L  "
   ]
  },
  {
   "cell_type": "code",
   "execution_count": null,
   "id": "742fb37d",
   "metadata": {},
   "outputs": [],
   "source": [
    "movies['cast']= movies['cast'].apply(cast)"
   ]
  },
  {
   "cell_type": "code",
   "execution_count": null,
   "id": "3cc235cc",
   "metadata": {},
   "outputs": [],
   "source": [
    "def cr(obj):\n",
    "    L=[]\n",
    "    for i in ast.literal_eval(obj):\n",
    "        if i['job']== 'Director':\n",
    "            L.append(i['name'])\n",
    "    return L"
   ]
  },
  {
   "cell_type": "code",
   "execution_count": null,
   "id": "9b6b5eb6",
   "metadata": {},
   "outputs": [],
   "source": [
    "movies['crew']= movies['crew'].apply(cr)"
   ]
  },
  {
   "cell_type": "code",
   "execution_count": null,
   "id": "67cd43fc",
   "metadata": {},
   "outputs": [],
   "source": [
    "movies['genres']= movies['genres'].apply(lambda x: [i.replace(\" \",\"\") for i in x])\n",
    "movies['keywords']= movies['keywords'].apply(lambda x: [i.replace(\" \",\"\") for i in x])\n",
    "movies['cast']= movies['cast'].apply(lambda x: [i.replace(\" \",\"\") for i in x])\n",
    "movies['crew']= movies['crew'].apply(lambda x: [i.replace(\" \",\"\") for i in x])"
   ]
  },
  {
   "cell_type": "code",
   "execution_count": null,
   "id": "e4395d9d",
   "metadata": {},
   "outputs": [],
   "source": [
    "movies['overview']= movies['overview'].str.split()"
   ]
  },
  {
   "cell_type": "code",
   "execution_count": null,
   "id": "6fa2f000",
   "metadata": {},
   "outputs": [],
   "source": [
    "movies['tags']= movies['genres']+ movies['cast']+ movies['crew']+ movies['overview']+ movies['keywords']"
   ]
  },
  {
   "cell_type": "code",
   "execution_count": null,
   "id": "9edfcad3",
   "metadata": {},
   "outputs": [],
   "source": [
    "movies= movies[['id','title','tags']]"
   ]
  },
  {
   "cell_type": "code",
   "execution_count": null,
   "id": "ee477425",
   "metadata": {},
   "outputs": [],
   "source": [
    "def join_lists(x):\n",
    "    if isinstance(x, list):\n",
    "        return ' '.join(x)\n",
    "    return x if x is not None else ''"
   ]
  },
  {
   "cell_type": "code",
   "execution_count": null,
   "id": "0a260019",
   "metadata": {},
   "outputs": [],
   "source": [
    "movies['tags'] = movies['tags'].apply(join_lists)"
   ]
  },
  {
   "cell_type": "code",
   "execution_count": null,
   "id": "82e9193d",
   "metadata": {},
   "outputs": [],
   "source": [
    "from sklearn.feature_extraction.text import CountVectorizer\n",
    "cs =CountVectorizer(max_features= 5000, stop_words='english')"
   ]
  },
  {
   "cell_type": "code",
   "execution_count": null,
   "id": "506c5db9",
   "metadata": {},
   "outputs": [],
   "source": [
    "movies['tags'] = movies['tags'].fillna('')"
   ]
  },
  {
   "cell_type": "code",
   "execution_count": null,
   "id": "a43e5782",
   "metadata": {},
   "outputs": [],
   "source": [
    "vector = cs.fit_transform(movies['tags']).toarray()\n",
    "vector"
   ]
  },
  {
   "cell_type": "code",
   "execution_count": null,
   "id": "12d8cdde",
   "metadata": {},
   "outputs": [],
   "source": [
    "from sklearn.metrics.pairwise import cosine_similarity"
   ]
  },
  {
   "cell_type": "code",
   "execution_count": null,
   "id": "aa23d1f6",
   "metadata": {},
   "outputs": [],
   "source": [
    "similarity = cosine_similarity(vector)"
   ]
  },
  {
   "cell_type": "code",
   "execution_count": null,
   "id": "c7baff93",
   "metadata": {},
   "outputs": [],
   "source": [
    "similarity.shape"
   ]
  },
  {
   "cell_type": "code",
   "execution_count": null,
   "id": "1b295a0a",
   "metadata": {},
   "outputs": [],
   "source": [
    "similarity[0]"
   ]
  },
  {
   "cell_type": "code",
   "execution_count": null,
   "id": "edf4b8c6",
   "metadata": {},
   "outputs": [],
   "source": [
    "def recommend(movie):\n",
    "    index = movies[movies['title'] == movie].index[0]\n",
    "    distances = sorted(list(enumerate(similarity[index])),reverse=True,key = lambda x: x[1])\n",
    "    for i in distances[1:6]:\n",
    "        print(movies.iloc[i[0]].title)"
   ]
  },
  {
   "cell_type": "code",
   "execution_count": null,
   "id": "a3588010",
   "metadata": {},
   "outputs": [],
   "source": [
    "recommend('Spider-Man')"
   ]
  },
  {
   "cell_type": "code",
   "execution_count": null,
   "id": "33308675",
   "metadata": {},
   "outputs": [],
   "source": []
  }
 ],
 "metadata": {
  "kernelspec": {
   "display_name": "Python 3",
   "language": "python",
   "name": "python3"
  },
  "language_info": {
   "codemirror_mode": {
    "name": "ipython",
    "version": 3
   },
   "file_extension": ".py",
   "mimetype": "text/x-python",
   "name": "python",
   "nbconvert_exporter": "python",
   "pygments_lexer": "ipython3",
   "version": "3.12.3"
  }
 },
 "nbformat": 4,
 "nbformat_minor": 5
}
