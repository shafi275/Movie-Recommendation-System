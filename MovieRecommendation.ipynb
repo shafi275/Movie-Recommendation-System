{
 "cells": [
  {
   "cell_type": "code",
   "execution_count": null,
   "id": "b2116b2f-2986-41e1-b88f-0601350e3cd0",
   "metadata": {},
   "outputs": [],
   "source": [
    "import pandas as pd"
   ]
  },
  {
   "cell_type": "code",
   "execution_count": null,
   "id": "2cb882c1-ed65-4a47-be01-e90731a452a5",
   "metadata": {},
   "outputs": [],
   "source": [
    "import numpy as np"
   ]
  },
  {
   "cell_type": "code",
   "execution_count": null,
   "id": "5ebeab37-d58e-4f52-a7f6-8185ec2fdf90",
   "metadata": {},
   "outputs": [],
   "source": [
    "credits= pd.read_csv(\"E:/DataScienceProject/archive/tmdb_5000_credits.csv\")"
   ]
  },
  {
   "cell_type": "code",
   "execution_count": null,
   "id": "a677b919-6f95-455d-b46a-c32333d9ac7e",
   "metadata": {},
   "outputs": [],
   "source": [
    "movies=pd.read_csv(\"E:/DataScienceProject/tmdb_5000_movies.csv\")\n",
    "\n",
    "\n",
    "movies.head(5)"
   ]
  },
  {
   "cell_type": "code",
   "execution_count": null,
   "id": "4fecd0df-00fd-4521-b5cd-4db757b0f032",
   "metadata": {},
   "outputs": [],
   "source": [
    "movies"
   ]
  },
  {
   "cell_type": "code",
   "execution_count": null,
   "id": "c556add1-7842-42cf-b6be-fbfa627e38eb",
   "metadata": {},
   "outputs": [],
   "source": [
    "credits"
   ]
  },
  {
   "cell_type": "code",
   "execution_count": null,
   "id": "2612fad0-1230-40bb-9043-a9c00f8f78b8",
   "metadata": {},
   "outputs": [],
   "source": [
    "credits.shape"
   ]
  },
  {
   "cell_type": "code",
   "execution_count": null,
   "id": "d88e80ee-a5e2-4774-ad4f-f94b47f62242",
   "metadata": {},
   "outputs": [],
   "source": [
    "movies.shape"
   ]
  },
  {
   "cell_type": "code",
   "execution_count": null,
   "id": "e1e5cfd5-fb13-4293-a397-b8ce6150943c",
   "metadata": {},
   "outputs": [],
   "source": [
    "movies= movies.merge( credits, on ='title')"
   ]
  },
  {
   "cell_type": "code",
   "execution_count": null,
   "id": "b6901ae3-cbe6-41f9-92f5-c528c613d970",
   "metadata": {},
   "outputs": [],
   "source": [
    "movies.shape"
   ]
  },
  {
   "cell_type": "code",
   "execution_count": null,
   "id": "1229086b-9aaa-4457-82a7-cb0e0cee6dbb",
   "metadata": {},
   "outputs": [],
   "source": [
    "#will recoomendate on 7 criteria \n",
    "#genres\n",
    "#id\n",
    "#keyword\n",
    "#title\n",
    "#overview\n",
    "#cast\n",
    "#crew\n",
    "movies.columns\n"
   ]
  },
  {
   "cell_type": "code",
   "execution_count": null,
   "id": "7c15193b-c884-490a-a716-34f162dff285",
   "metadata": {},
   "outputs": [],
   "source": [
    "movies= movies[['genres','id', 'keywords','title', 'overview','cast', 'crew']]"
   ]
  },
  {
   "cell_type": "code",
   "execution_count": null,
   "id": "6fa5314d-6a77-4cd9-bd1d-0e3a27a45b12",
   "metadata": {},
   "outputs": [],
   "source": [
    "movies"
   ]
  },
  {
   "cell_type": "code",
   "execution_count": null,
   "id": "6ebc449d-6b8b-469f-8620-a365496a9bc0",
   "metadata": {},
   "outputs": [],
   "source": [
    "movies.shape"
   ]
  },
  {
   "cell_type": "code",
   "execution_count": null,
   "id": "942cb4bb-cffa-44a0-b1a9-e860358fac4a",
   "metadata": {},
   "outputs": [],
   "source": [
    "movies.isnull().sum()"
   ]
  },
  {
   "cell_type": "code",
   "execution_count": null,
   "id": "a7658272-b766-4edd-a33a-21f68d4e5619",
   "metadata": {},
   "outputs": [],
   "source": [
    "movies.dropna(inplace =True)"
   ]
  },
  {
   "cell_type": "code",
   "execution_count": null,
   "id": "79c99e7b-8e55-4026-9104-a6760e88dfc7",
   "metadata": {},
   "outputs": [],
   "source": [
    "movies.duplicated().sum()"
   ]
  },
  {
   "cell_type": "code",
   "execution_count": null,
   "id": "7e0a608d-b30b-42a6-8368-39012dc4026d",
   "metadata": {},
   "outputs": [],
   "source": [
    "movies.iloc[0].genres"
   ]
  },
  {
   "cell_type": "code",
   "execution_count": null,
   "id": "8cb92086-55de-478c-b39d-74db74fce736",
   "metadata": {},
   "outputs": [],
   "source": [
    "import ast\n",
    "def convert(obj) :\n",
    "    l=[]\n",
    "    for i in ast.literal_eval(obj):\n",
    "        l.append(i['name'])\n",
    "        return l"
   ]
  },
  {
   "cell_type": "code",
   "execution_count": null,
   "id": "c872b31b-c76a-4b2c-a1e4-15c82ee2f16f",
   "metadata": {},
   "outputs": [],
   "source": [
    "movies.head()"
   ]
  },
  {
   "cell_type": "code",
   "execution_count": null,
   "id": "479c25da-bd0f-42c0-a658-4b73b0d04b90",
   "metadata": {},
   "outputs": [],
   "source": [
    "movies"
   ]
  },
  {
   "cell_type": "code",
   "execution_count": null,
   "id": "8ece1d09-25e3-430c-a36a-e31eb96887b3",
   "metadata": {},
   "outputs": [],
   "source": [
    "movies.iloc[0].keywords"
   ]
  },
  {
   "cell_type": "code",
   "execution_count": null,
   "id": "89c4bc2b-3169-4c75-b7ec-d73c86936a5c",
   "metadata": {},
   "outputs": [],
   "source": [
    "movies['keywords']=movies['keywords'].apply(convert)"
   ]
  },
  {
   "cell_type": "code",
   "execution_count": null,
   "id": "68ee3bf1-fee7-4912-9594-a6bcf9c6fc6a",
   "metadata": {},
   "outputs": [],
   "source": [
    "movies"
   ]
  },
  {
   "cell_type": "code",
   "execution_count": null,
   "id": "85aeb643",
   "metadata": {},
   "outputs": [],
   "source": [
    "movies"
   ]
  },
  {
   "cell_type": "code",
   "execution_count": null,
   "id": "384cecdf",
   "metadata": {},
   "outputs": [],
   "source": [
    "movies['genres']=movies['genres'].apply(convert)"
   ]
  },
  {
   "cell_type": "code",
   "execution_count": null,
   "id": "2c41513b",
   "metadata": {},
   "outputs": [],
   "source": [
    "movies"
   ]
  },
  {
   "cell_type": "code",
   "execution_count": null,
   "id": "94be89b5",
   "metadata": {},
   "outputs": [],
   "source": [
    "movies"
   ]
  },
  {
   "cell_type": "code",
   "execution_count": null,
   "id": "499acca0",
   "metadata": {},
   "outputs": [],
   "source": []
  }
 ],
 "metadata": {
  "kernelspec": {
   "display_name": "Python 3",
   "language": "python",
   "name": "python3"
  },
  "language_info": {
   "codemirror_mode": {
    "name": "ipython",
    "version": 3
   },
   "file_extension": ".py",
   "mimetype": "text/x-python",
   "name": "python",
   "nbconvert_exporter": "python",
   "pygments_lexer": "ipython3",
   "version": "3.12.3"
  }
 },
 "nbformat": 4,
 "nbformat_minor": 5
}
