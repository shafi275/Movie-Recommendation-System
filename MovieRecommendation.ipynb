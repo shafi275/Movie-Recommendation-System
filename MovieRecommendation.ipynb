{
 "cells": [
  {
   "cell_type": "code",
   "execution_count": null,
   "id": "b2116b2f-2986-41e1-b88f-0601350e3cd0",
   "metadata": {},
   "outputs": [],
   "source": [
    "import pandas as pd"
   ]
  },
  {
   "cell_type": "code",
   "execution_count": null,
   "id": "2cb882c1-ed65-4a47-be01-e90731a452a5",
   "metadata": {},
   "outputs": [],
   "source": [
    "import numpy as np"
   ]
  },
  {
   "cell_type": "code",
   "execution_count": null,
   "id": "5ebeab37-d58e-4f52-a7f6-8185ec2fdf90",
   "metadata": {},
   "outputs": [],
   "source": [
    "credits= pd.read_csv(\"E:/DataScienceProject/archive/tmdb_5000_credits.csv\")"
   ]
  },
  {
   "cell_type": "code",
   "execution_count": null,
   "id": "a677b919-6f95-455d-b46a-c32333d9ac7e",
   "metadata": {},
   "outputs": [],
   "source": [
    "movies=pd.read_csv(\"E:/DataScienceProject/tmdb_5000_movies.csv\")\n",
    "\n",
    "\n",
    "movies.head(5)"
   ]
  },
  {
   "cell_type": "code",
   "execution_count": null,
   "id": "4fecd0df-00fd-4521-b5cd-4db757b0f032",
   "metadata": {},
   "outputs": [],
   "source": [
    "movies"
   ]
  },
  {
   "cell_type": "code",
   "execution_count": null,
   "id": "c556add1-7842-42cf-b6be-fbfa627e38eb",
   "metadata": {},
   "outputs": [],
   "source": [
    "credits"
   ]
  },
  {
   "cell_type": "code",
   "execution_count": null,
   "id": "2612fad0-1230-40bb-9043-a9c00f8f78b8",
   "metadata": {},
   "outputs": [],
   "source": [
    "credits.shape"
   ]
  },
  {
   "cell_type": "code",
   "execution_count": null,
   "id": "d88e80ee-a5e2-4774-ad4f-f94b47f62242",
   "metadata": {},
   "outputs": [],
   "source": [
    "movies.shape"
   ]
  },
  {
   "cell_type": "code",
   "execution_count": null,
   "id": "e1e5cfd5-fb13-4293-a397-b8ce6150943c",
   "metadata": {},
   "outputs": [],
   "source": [
    "movies= movies.merge( credits, on ='title')"
   ]
  },
  {
   "cell_type": "code",
   "execution_count": null,
   "id": "b6901ae3-cbe6-41f9-92f5-c528c613d970",
   "metadata": {},
   "outputs": [],
   "source": [
    "movies.shape"
   ]
  },
  {
   "cell_type": "code",
   "execution_count": null,
   "id": "1229086b-9aaa-4457-82a7-cb0e0cee6dbb",
   "metadata": {},
   "outputs": [],
   "source": [
    "#will recoomendate on 7 criteria \n",
    "#genres\n",
    "#id\n",
    "#keyword\n",
    "#title\n",
    "#overview\n",
    "#cast\n",
    "#crew\n",
    "movies.columns\n"
   ]
  },
  {
   "cell_type": "code",
   "execution_count": null,
   "id": "7c15193b-c884-490a-a716-34f162dff285",
   "metadata": {},
   "outputs": [],
   "source": [
    "movies= movies[['genres','id', 'keywords','title', 'overview','cast', 'crew']]"
   ]
  },
  {
   "cell_type": "code",
   "execution_count": null,
   "id": "6fa5314d-6a77-4cd9-bd1d-0e3a27a45b12",
   "metadata": {},
   "outputs": [],
   "source": [
    "movies"
   ]
  },
  {
   "cell_type": "code",
   "execution_count": null,
   "id": "6ebc449d-6b8b-469f-8620-a365496a9bc0",
   "metadata": {},
   "outputs": [],
   "source": [
    "movies.shape"
   ]
  },
  {
   "cell_type": "code",
   "execution_count": null,
   "id": "942cb4bb-cffa-44a0-b1a9-e860358fac4a",
   "metadata": {},
   "outputs": [],
   "source": [
    "movies.isnull().sum()"
   ]
  },
  {
   "cell_type": "code",
   "execution_count": null,
   "id": "a7658272-b766-4edd-a33a-21f68d4e5619",
   "metadata": {},
   "outputs": [],
   "source": [
    "movies.dropna(inplace =True)\n",
    "movies.isnull().sum()"
   ]
  },
  {
   "cell_type": "code",
   "execution_count": null,
   "id": "79c99e7b-8e55-4026-9104-a6760e88dfc7",
   "metadata": {},
   "outputs": [],
   "source": [
    "movies.duplicated().sum()"
   ]
  },
  {
   "cell_type": "code",
   "execution_count": null,
   "id": "7e0a608d-b30b-42a6-8368-39012dc4026d",
   "metadata": {},
   "outputs": [],
   "source": [
    "movies.iloc[0].genres"
   ]
  },
  {
   "cell_type": "code",
   "execution_count": null,
   "id": "8cb92086-55de-478c-b39d-74db74fce736",
   "metadata": {},
   "outputs": [],
   "source": [
    "import ast\n",
    "def convert(obj) :\n",
    "    l=[]\n",
    "    for i in ast.literal_eval(obj):\n",
    "        l.append(i['name'])\n",
    "        return l"
   ]
  },
  {
   "cell_type": "code",
   "execution_count": null,
   "id": "c872b31b-c76a-4b2c-a1e4-15c82ee2f16f",
   "metadata": {},
   "outputs": [],
   "source": [
    "movies.head()"
   ]
  },
  {
   "cell_type": "code",
   "execution_count": null,
   "id": "479c25da-bd0f-42c0-a658-4b73b0d04b90",
   "metadata": {},
   "outputs": [],
   "source": [
    "movies"
   ]
  },
  {
   "cell_type": "code",
   "execution_count": null,
   "id": "8ece1d09-25e3-430c-a36a-e31eb96887b3",
   "metadata": {},
   "outputs": [],
   "source": [
    "movies.iloc[0].keywords"
   ]
  },
  {
   "cell_type": "code",
   "execution_count": null,
   "id": "89c4bc2b-3169-4c75-b7ec-d73c86936a5c",
   "metadata": {},
   "outputs": [],
   "source": [
    "movies['keywords']=movies['keywords'].apply(convert)"
   ]
  },
  {
   "cell_type": "code",
   "execution_count": null,
   "id": "68ee3bf1-fee7-4912-9594-a6bcf9c6fc6a",
   "metadata": {},
   "outputs": [],
   "source": [
    "movies"
   ]
  },
  {
   "cell_type": "code",
   "execution_count": null,
   "id": "85aeb643",
   "metadata": {},
   "outputs": [],
   "source": [
    "movies"
   ]
  },
  {
   "cell_type": "code",
   "execution_count": null,
   "id": "384cecdf",
   "metadata": {},
   "outputs": [],
   "source": [
    "movies['genres']=movies['genres'].apply(convert)"
   ]
  },
  {
   "cell_type": "code",
   "execution_count": null,
   "id": "2c41513b",
   "metadata": {},
   "outputs": [],
   "source": [
    "movies"
   ]
  },
  {
   "cell_type": "code",
   "execution_count": null,
   "id": "94be89b5",
   "metadata": {},
   "outputs": [],
   "source": [
    "movies"
   ]
  },
  {
   "cell_type": "code",
   "execution_count": null,
   "id": "499acca0",
   "metadata": {},
   "outputs": [],
   "source": [
    "import ast\n",
    "\n",
    "def convert_cast(obj):\n",
    "    l = []\n",
    "    counter = 0\n",
    "    for i in ast.literal_eval(obj):\n",
    "        if counter != 3:\n",
    "            l.append(i['name'])\n",
    "            counter += 1\n",
    "        else:\n",
    "            break\n",
    "    return l\n"
   ]
  },
  {
   "cell_type": "code",
   "execution_count": null,
   "id": "d146f59d",
   "metadata": {},
   "outputs": [],
   "source": [
    "movies['cast']=movies['cast'].apply(convert_cast)"
   ]
  },
  {
   "cell_type": "code",
   "execution_count": null,
   "id": "7e634d8a",
   "metadata": {},
   "outputs": [],
   "source": [
    "movies"
   ]
  },
  {
   "cell_type": "code",
   "execution_count": null,
   "id": "f955c958",
   "metadata": {},
   "outputs": [],
   "source": [
    "import ast\n",
    "\n",
    "def fetch_director(obj):\n",
    "    l = []\n",
    "    \n",
    "    for i in ast.literal_eval(obj):\n",
    "        if i['job']=='Director':\n",
    "            l.append(i['name'])\n",
    "            break\n",
    "    return l"
   ]
  },
  {
   "cell_type": "code",
   "execution_count": null,
   "id": "042db0d7",
   "metadata": {},
   "outputs": [],
   "source": [
    "movies['crew']=movies['crew'].apply(fetch_director)"
   ]
  },
  {
   "cell_type": "code",
   "execution_count": null,
   "id": "c131ade6",
   "metadata": {},
   "outputs": [],
   "source": [
    "movies"
   ]
  },
  {
   "cell_type": "code",
   "execution_count": null,
   "id": "08295534",
   "metadata": {},
   "outputs": [],
   "source": [
    "movies['overview']=movies['overview'].apply(lambda x:x.split())"
   ]
  },
  {
   "cell_type": "code",
   "execution_count": null,
   "id": "461fda76",
   "metadata": {},
   "outputs": [],
   "source": [
    "def remove_spac(word):\n",
    "    l=[]\n",
    "    for i in word:\n",
    "        l.append(i.replace(\" \",\"\"))\n",
    "        return l\n",
    "\n"
   ]
  },
  {
   "cell_type": "code",
   "execution_count": null,
   "id": "d8d58645",
   "metadata": {},
   "outputs": [],
   "source": [
    "\n",
    "movies['cast']=movies['cast'].apply(remove_spac)\n",
    "movies['crew']=movies['crew'].apply(remove_spac)"
   ]
  },
  {
   "cell_type": "code",
   "execution_count": null,
   "id": "f2cd74c4",
   "metadata": {},
   "outputs": [],
   "source": [
    "\n",
    "def remove_spaces_from_genres(data):\n",
    "    \"\"\"Removes spaces from genre names in the genres list.\"\"\"\n",
    "    if isinstance(data, list):\n",
    "        return [genre.replace(\" \", \"\") for genre in data]\n",
    "    return data\n",
    "\n",
    "# Apply the function to the 'genres' column\n",
    "movies['genres'] = movies['genres'].apply(remove_spaces_from_genres)\n"
   ]
  },
  {
   "cell_type": "code",
   "execution_count": null,
   "id": "9edd6cfd",
   "metadata": {},
   "outputs": [],
   "source": [
    "def remove_spaces_from_keywords(data):\n",
    "    \"\"\"Removes spaces from each keyword in the keywords list.\"\"\"\n",
    "    if isinstance(data, list):  # If it's a list of keywords\n",
    "        return [keyword.replace(\" \", \"\") for keyword in data]\n",
    "    return data\n",
    "\n",
    "# Apply the function to the 'keywords' column\n",
    "movies['keywords'] = movies['keywords'].apply(remove_spaces_from_keywords)\n"
   ]
  },
  {
   "cell_type": "code",
   "execution_count": null,
   "id": "e74d8251",
   "metadata": {},
   "outputs": [],
   "source": [
    "movies['tags']=movies['overview']+movies['genres'] +movies['cast'] + movies['crew'] + movies['keywords']"
   ]
  },
  {
   "cell_type": "code",
   "execution_count": null,
   "id": "a222d9c6",
   "metadata": {},
   "outputs": [],
   "source": [
    "# Create a new DataFrame with selected columns\n",
    "new_df = movies[['id', 'title', 'tags']]\n",
    "\n",
    "# Display the first 3 rows\n",
    "new_df.head(3)\n"
   ]
  },
  {
   "cell_type": "code",
   "execution_count": null,
   "id": "24dddc7d",
   "metadata": {},
   "outputs": [],
   "source": [
    "print(new_df['tags'].head(10))  # Inspect the first few rows\n",
    "print(new_df['tags'].apply(type).value_counts())  # Check for different types in th"
   ]
  },
  {
   "cell_type": "code",
   "execution_count": null,
   "id": "47c026d3",
   "metadata": {},
   "outputs": [],
   "source": [
    "# Convert tags lists into a single string and handle NaN values\n",
    "new_df['tags'] = new_df['tags'].apply(lambda x: \" \".join(x) if isinstance(x, list) else x)\n",
    "new_df['tags'] = new_df['tags'].fillna(\"No Tags\")  # Fill any remaining NaN values\n"
   ]
  },
  {
   "cell_type": "code",
   "execution_count": null,
   "id": "5604ea11",
   "metadata": {},
   "outputs": [],
   "source": [
    "new_df['tags']=new_df['tags'].apply(lambda x:x.lower())"
   ]
  },
  {
   "cell_type": "code",
   "execution_count": 173,
   "id": "5e344e7a",
   "metadata": {},
   "outputs": [],
   "source": [
    "import nltk\n",
    "from nltk.stem import  PorterStemmer"
   ]
  },
  {
   "cell_type": "code",
   "execution_count": 174,
   "id": "4a83c38e",
   "metadata": {},
   "outputs": [],
   "source": [
    "ps= PorterStemmer()"
   ]
  },
  {
   "cell_type": "code",
   "execution_count": 175,
   "id": "f0f6d401",
   "metadata": {},
   "outputs": [],
   "source": [
    "def stems(text):\n",
    "    l=[]\n",
    "    for i in text.split():\n",
    "        l.append(ps.stem(i))\n",
    "        return \" \".join(l)"
   ]
  },
  {
   "cell_type": "code",
   "execution_count": 176,
   "id": "9501111f",
   "metadata": {},
   "outputs": [
    {
     "name": "stderr",
     "output_type": "stream",
     "text": [
      "C:\\Users\\Hp\\AppData\\Local\\Temp\\ipykernel_26232\\1522715013.py:1: SettingWithCopyWarning: \n",
      "A value is trying to be set on a copy of a slice from a DataFrame.\n",
      "Try using .loc[row_indexer,col_indexer] = value instead\n",
      "\n",
      "See the caveats in the documentation: https://pandas.pydata.org/pandas-docs/stable/user_guide/indexing.html#returning-a-view-versus-a-copy\n",
      "  new_df['tags']=new_df['tags'].apply(stems)\n"
     ]
    }
   ],
   "source": [
    "new_df['tags']=new_df['tags'].apply(stems)"
   ]
  },
  {
   "cell_type": "code",
   "execution_count": 179,
   "id": "6a957fc5",
   "metadata": {},
   "outputs": [],
   "source": [
    "from sklearn.feature_extraction.text import CountVectorizer\n",
    "\n",
    "cv = CountVectorizer(max_features=5000, stop_words='english')\n"
   ]
  },
  {
   "cell_type": "code",
   "execution_count": 180,
   "id": "e0b2f268",
   "metadata": {},
   "outputs": [],
   "source": [
    "vector=cv.fit_transform(new_df['tags']).toarray()"
   ]
  },
  {
   "cell_type": "code",
   "execution_count": 181,
   "id": "130c4770",
   "metadata": {},
   "outputs": [
    {
     "data": {
      "text/plain": [
       "array([[0, 0, 0, ..., 0, 0, 0],\n",
       "       [0, 0, 0, ..., 0, 0, 0],\n",
       "       [0, 0, 0, ..., 0, 0, 0],\n",
       "       ...,\n",
       "       [0, 0, 0, ..., 0, 0, 0],\n",
       "       [0, 0, 0, ..., 0, 0, 0],\n",
       "       [0, 0, 0, ..., 0, 0, 0]])"
      ]
     },
     "execution_count": 181,
     "metadata": {},
     "output_type": "execute_result"
    }
   ],
   "source": [
    "vector"
   ]
  },
  {
   "cell_type": "code",
   "execution_count": 182,
   "id": "f6c8223c",
   "metadata": {},
   "outputs": [
    {
     "data": {
      "text/plain": [
       "(4806, 1184)"
      ]
     },
     "execution_count": 182,
     "metadata": {},
     "output_type": "execute_result"
    }
   ],
   "source": [
    "vector.shape"
   ]
  },
  {
   "cell_type": "code",
   "execution_count": 183,
   "id": "2f4792e5",
   "metadata": {},
   "outputs": [
    {
     "name": "stdout",
     "output_type": "stream",
     "text": [
      "Number of unique features: 1184\n"
     ]
    }
   ],
   "source": [
    "print(\"Number of unique features:\", len(cv.get_feature_names_out()))\n"
   ]
  },
  {
   "cell_type": "code",
   "execution_count": 184,
   "id": "1a1d76b3",
   "metadata": {},
   "outputs": [
    {
     "name": "stdout",
     "output_type": "stream",
     "text": [
      "Shape of document-term matrix: (4806, 1184)\n"
     ]
    }
   ],
   "source": [
    "X = cv.fit_transform(new_df['tags'])\n",
    "print(\"Shape of document-term matrix:\", X.shape)  # Check the number of features\n"
   ]
  },
  {
   "cell_type": "code",
   "execution_count": 185,
   "id": "e7fa5711",
   "metadata": {},
   "outputs": [],
   "source": [
    "cv = CountVectorizer(max_features=10000, stop_words='english')\n"
   ]
  },
  {
   "cell_type": "code",
   "execution_count": 186,
   "id": "49eab4af",
   "metadata": {},
   "outputs": [
    {
     "name": "stdout",
     "output_type": "stream",
     "text": [
      "Shape of document-term matrix: (4806, 1184)\n"
     ]
    }
   ],
   "source": [
    "X = cv.fit_transform(new_df['tags'])\n",
    "print(\"Shape of document-term matrix:\", X.shape)  # Check the number of features\n"
   ]
  },
  {
   "cell_type": "code",
   "execution_count": 187,
   "id": "cca41ec9",
   "metadata": {},
   "outputs": [
    {
     "name": "stdout",
     "output_type": "stream",
     "text": [
      "Number of unique features: 1184\n"
     ]
    }
   ],
   "source": [
    "print(\"Number of unique features:\", len(cv.get_feature_names_out()))\n"
   ]
  },
  {
   "cell_type": "code",
   "execution_count": 189,
   "id": "865c09fa",
   "metadata": {},
   "outputs": [],
   "source": [
    "from sklearn.metrics.pairwise import cosine_similarity\n"
   ]
  },
  {
   "cell_type": "code",
   "execution_count": 193,
   "id": "b38c20d4",
   "metadata": {},
   "outputs": [],
   "source": [
    "similarity=cosine_similarity(vector).shape\n"
   ]
  },
  {
   "cell_type": "code",
   "execution_count": 194,
   "id": "f2e38d9e",
   "metadata": {},
   "outputs": [
    {
     "data": {
      "text/plain": [
       "(4806, 4806)"
      ]
     },
     "execution_count": 194,
     "metadata": {},
     "output_type": "execute_result"
    }
   ],
   "source": [
    "similarity"
   ]
  },
  {
   "cell_type": "code",
   "execution_count": 199,
   "id": "08ccfac5",
   "metadata": {},
   "outputs": [
    {
     "data": {
      "text/plain": [
       "np.float64(0.0)"
      ]
     },
     "execution_count": 199,
     "metadata": {},
     "output_type": "execute_result"
    }
   ],
   "source": [
    "similarity_matrix[0][9]"
   ]
  },
  {
   "cell_type": "code",
   "execution_count": 196,
   "id": "93907417",
   "metadata": {},
   "outputs": [
    {
     "name": "stdout",
     "output_type": "stream",
     "text": [
      "(4806, 4806)\n",
      "(4806,)\n"
     ]
    }
   ],
   "source": [
    "from sklearn.metrics.pairwise import cosine_similarity\n",
    "from sklearn.feature_extraction.text import CountVectorizer\n",
    "\n",
    "# Example data (using `new_df['tags']` here)\n",
    "cv = CountVectorizer(max_features=5000, stop_words='english')\n",
    "X = cv.fit_transform(new_df['tags'])\n",
    "\n",
    "# Compute the cosine similarity matrix\n",
    "similarity_matrix = cosine_similarity(X)\n",
    "\n",
    "# Print the shape of the similarity matrix (should be (4806, 4806))\n",
    "print(similarity_matrix.shape)\n",
    "\n",
    "# Accessing the first row (should be a 1D array with 4806 elements)\n",
    "print(similarity_matrix[0].shape)  # Should be (4806,)\n"
   ]
  },
  {
   "cell_type": "code",
   "execution_count": null,
   "id": "69e523a4",
   "metadata": {},
   "outputs": [],
   "source": []
  }
 ],
 "metadata": {
  "kernelspec": {
   "display_name": "Python 3",
   "language": "python",
   "name": "python3"
  },
  "language_info": {
   "codemirror_mode": {
    "name": "ipython",
    "version": 3
   },
   "file_extension": ".py",
   "mimetype": "text/x-python",
   "name": "python",
   "nbconvert_exporter": "python",
   "pygments_lexer": "ipython3",
   "version": "3.12.3"
  }
 },
 "nbformat": 4,
 "nbformat_minor": 5
}
